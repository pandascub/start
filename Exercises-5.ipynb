{
 "cells": [
  {
   "cell_type": "code",
   "execution_count": 1,
   "metadata": {},
   "outputs": [],
   "source": [
    "%matplotlib inline\n",
    "import pandas as pd"
   ]
  },
  {
   "cell_type": "code",
   "execution_count": 2,
   "metadata": {},
   "outputs": [
    {
     "data": {
      "text/html": [
       "<style>body {\n",
       "    margin: 0;\n",
       "    font-family: Helvetica;\n",
       "}\n",
       "table.dataframe {\n",
       "    border-collapse: collapse;\n",
       "    border: none;\n",
       "}\n",
       "table.dataframe tr {\n",
       "    border: none;\n",
       "}\n",
       "table.dataframe td, table.dataframe th {\n",
       "    margin: 0;\n",
       "    border: 1px solid white;\n",
       "    padding-left: 0.25em;\n",
       "    padding-right: 0.25em;\n",
       "}\n",
       "table.dataframe th:not(:empty) {\n",
       "    background-color: #fec;\n",
       "    text-align: left;\n",
       "    font-weight: normal;\n",
       "}\n",
       "table.dataframe tr:nth-child(2) th:empty {\n",
       "    border-left: none;\n",
       "    border-right: 1px dashed #888;\n",
       "}\n",
       "table.dataframe td {\n",
       "    border: 2px solid #ccf;\n",
       "    background-color: #f4f4ff;\n",
       "}\n",
       "h3 {\n",
       "    color: white;\n",
       "    background-color: black;\n",
       "    padding: 0.5em;\n",
       "}\n",
       "</style>"
      ],
      "text/plain": [
       "<IPython.core.display.HTML object>"
      ]
     },
     "execution_count": 2,
     "metadata": {},
     "output_type": "execute_result"
    }
   ],
   "source": [
    "# from IPython.core.display import HTML\n",
    "# css = open('style-table.css').read() + open('style-notebook.css').read()\n",
    "# HTML('<style>{}</style>'.format(css))"
   ]
  },
  {
   "cell_type": "code",
   "execution_count": 2,
   "metadata": {},
   "outputs": [
    {
     "data": {
      "text/html": [
       "<div>\n",
       "<style scoped>\n",
       "    .dataframe tbody tr th:only-of-type {\n",
       "        vertical-align: middle;\n",
       "    }\n",
       "\n",
       "    .dataframe tbody tr th {\n",
       "        vertical-align: top;\n",
       "    }\n",
       "\n",
       "    .dataframe thead th {\n",
       "        text-align: right;\n",
       "    }\n",
       "</style>\n",
       "<table border=\"1\" class=\"dataframe\">\n",
       "  <thead>\n",
       "    <tr style=\"text-align: right;\">\n",
       "      <th></th>\n",
       "      <th>title</th>\n",
       "      <th>year</th>\n",
       "      <th>name</th>\n",
       "      <th>type</th>\n",
       "      <th>character</th>\n",
       "      <th>n</th>\n",
       "    </tr>\n",
       "  </thead>\n",
       "  <tbody>\n",
       "    <tr>\n",
       "      <th>0</th>\n",
       "      <td>Closet Monster</td>\n",
       "      <td>2015</td>\n",
       "      <td>Buffy #1</td>\n",
       "      <td>actor</td>\n",
       "      <td>Buffy 4</td>\n",
       "      <td>31.0</td>\n",
       "    </tr>\n",
       "    <tr>\n",
       "      <th>1</th>\n",
       "      <td>Suuri illusioni</td>\n",
       "      <td>1985</td>\n",
       "      <td>Homo $</td>\n",
       "      <td>actor</td>\n",
       "      <td>Guests</td>\n",
       "      <td>22.0</td>\n",
       "    </tr>\n",
       "    <tr>\n",
       "      <th>2</th>\n",
       "      <td>Battle of the Sexes</td>\n",
       "      <td>2017</td>\n",
       "      <td>$hutter</td>\n",
       "      <td>actor</td>\n",
       "      <td>Bobby Riggs Fan</td>\n",
       "      <td>10.0</td>\n",
       "    </tr>\n",
       "    <tr>\n",
       "      <th>3</th>\n",
       "      <td>Secret in Their Eyes</td>\n",
       "      <td>2015</td>\n",
       "      <td>$hutter</td>\n",
       "      <td>actor</td>\n",
       "      <td>2002 Dodger Fan</td>\n",
       "      <td>NaN</td>\n",
       "    </tr>\n",
       "    <tr>\n",
       "      <th>4</th>\n",
       "      <td>Steve Jobs</td>\n",
       "      <td>2015</td>\n",
       "      <td>$hutter</td>\n",
       "      <td>actor</td>\n",
       "      <td>1988 Opera House Patron</td>\n",
       "      <td>NaN</td>\n",
       "    </tr>\n",
       "  </tbody>\n",
       "</table>\n",
       "</div>"
      ],
      "text/plain": [
       "                  title  year      name   type                character     n\n",
       "0        Closet Monster  2015  Buffy #1  actor                  Buffy 4  31.0\n",
       "1       Suuri illusioni  1985    Homo $  actor                   Guests  22.0\n",
       "2   Battle of the Sexes  2017   $hutter  actor          Bobby Riggs Fan  10.0\n",
       "3  Secret in Their Eyes  2015   $hutter  actor          2002 Dodger Fan   NaN\n",
       "4            Steve Jobs  2015   $hutter  actor  1988 Opera House Patron   NaN"
      ]
     },
     "execution_count": 2,
     "metadata": {},
     "output_type": "execute_result"
    }
   ],
   "source": [
    "cast = pd.read_csv('~/documents/data/cast.csv')\n",
    "cast.head()"
   ]
  },
  {
   "cell_type": "code",
   "execution_count": 4,
   "metadata": {
    "scrolled": true
   },
   "outputs": [
    {
     "data": {
      "text/html": [
       "<div>\n",
       "<style scoped>\n",
       "    .dataframe tbody tr th:only-of-type {\n",
       "        vertical-align: middle;\n",
       "    }\n",
       "\n",
       "    .dataframe tbody tr th {\n",
       "        vertical-align: top;\n",
       "    }\n",
       "\n",
       "    .dataframe thead th {\n",
       "        text-align: right;\n",
       "    }\n",
       "</style>\n",
       "<table border=\"1\" class=\"dataframe\">\n",
       "  <thead>\n",
       "    <tr style=\"text-align: right;\">\n",
       "      <th></th>\n",
       "      <th>title</th>\n",
       "      <th>year</th>\n",
       "      <th>country</th>\n",
       "      <th>date</th>\n",
       "    </tr>\n",
       "  </thead>\n",
       "  <tbody>\n",
       "    <tr>\n",
       "      <th>0</th>\n",
       "      <td>#73, Shaanthi Nivaasa</td>\n",
       "      <td>2007</td>\n",
       "      <td>India</td>\n",
       "      <td>2007-06-15</td>\n",
       "    </tr>\n",
       "    <tr>\n",
       "      <th>1</th>\n",
       "      <td>#BKKY</td>\n",
       "      <td>2016</td>\n",
       "      <td>Cambodia</td>\n",
       "      <td>2017-10-12</td>\n",
       "    </tr>\n",
       "    <tr>\n",
       "      <th>2</th>\n",
       "      <td>#Beings</td>\n",
       "      <td>2015</td>\n",
       "      <td>Romania</td>\n",
       "      <td>2015-01-29</td>\n",
       "    </tr>\n",
       "    <tr>\n",
       "      <th>3</th>\n",
       "      <td>#Captured</td>\n",
       "      <td>2017</td>\n",
       "      <td>USA</td>\n",
       "      <td>2017-09-05</td>\n",
       "    </tr>\n",
       "    <tr>\n",
       "      <th>4</th>\n",
       "      <td>#Ewankosau saranghaeyo</td>\n",
       "      <td>2015</td>\n",
       "      <td>Philippines</td>\n",
       "      <td>2015-01-21</td>\n",
       "    </tr>\n",
       "  </tbody>\n",
       "</table>\n",
       "</div>"
      ],
      "text/plain": [
       "                    title  year      country       date\n",
       "0   #73, Shaanthi Nivaasa  2007        India 2007-06-15\n",
       "1                   #BKKY  2016     Cambodia 2017-10-12\n",
       "2                 #Beings  2015      Romania 2015-01-29\n",
       "3               #Captured  2017          USA 2017-09-05\n",
       "4  #Ewankosau saranghaeyo  2015  Philippines 2015-01-21"
      ]
     },
     "execution_count": 4,
     "metadata": {},
     "output_type": "execute_result"
    }
   ],
   "source": [
    "release_dates = pd.read_csv(\n",
    "    '~/documents/data/release_dates.csv',\n",
    "    parse_dates=['date'],\n",
    "    infer_datetime_format=True,\n",
    ")\n",
    "release_dates.head()\n"
   ]
  },
  {
   "cell_type": "code",
   "execution_count": 8,
   "metadata": {},
   "outputs": [
    {
     "data": {
      "text/plain": [
       "0         4\n",
       "1         3\n",
       "2         3\n",
       "3         1\n",
       "4         2\n",
       "         ..\n",
       "443481    4\n",
       "443482    4\n",
       "443483    4\n",
       "443484    4\n",
       "443485    4\n",
       "Name: date, Length: 443486, dtype: int64"
      ]
     },
     "execution_count": 8,
     "metadata": {},
     "output_type": "execute_result"
    }
   ],
   "source": [
    "#Date time operations\n",
    "r = release_dates\n",
    "#r.dt.year\n",
    "#This gives an error because only series--not dataframes--have a dt attribute\n",
    "#So get a series with\n",
    "r.date.dt.dayofyear\n",
    "r.date.dt.dayofweek\n",
    "r.date.dt.dayofweek"
   ]
  },
  {
   "cell_type": "code",
   "execution_count": 12,
   "metadata": {},
   "outputs": [
    {
     "data": {
      "text/plain": [
       "6245      4\n",
       "6246      4\n",
       "6247      3\n",
       "6248      4\n",
       "6249      4\n",
       "         ..\n",
       "430713    4\n",
       "430714    2\n",
       "430715    4\n",
       "430716    4\n",
       "430717    3\n",
       "Name: date, Length: 264, dtype: int64"
      ]
     },
     "execution_count": 12,
     "metadata": {},
     "output_type": "execute_result"
    }
   ],
   "source": [
    "#Movies with \"action in title always come out on friday\n",
    "r = release_dates\n",
    "r.head()\n",
    "r = r[r.title.str.contains(\"Action\")]\n",
    "r.date.dt.dayofweek"
   ]
  },
  {
   "cell_type": "code",
   "execution_count": null,
   "metadata": {},
   "outputs": [],
   "source": []
  },
  {
   "cell_type": "code",
   "execution_count": null,
   "metadata": {},
   "outputs": [],
   "source": []
  },
  {
   "cell_type": "code",
   "execution_count": 16,
   "metadata": {
    "scrolled": true
   },
   "outputs": [
    {
     "data": {
      "text/plain": [
       "<AxesSubplot:>"
      ]
     },
     "execution_count": 16,
     "metadata": {},
     "output_type": "execute_result"
    },
    {
     "data": {
      "image/png": "[encoded data removed]",
      "text/plain": [
       "<Figure size 432x288 with 1 Axes>"
      ]
     },
     "metadata": {
      "needs_background": "light"
     },
     "output_type": "display_data"
    }
   ],
   "source": [
    "r.date.dt.dayofweek.value_counts().sort_index().plot()"
   ]
  },
  {
   "cell_type": "markdown",
   "metadata": {
    "collapsed": true
   },
   "source": [
    "### Make a bar plot of the months in which movies with \"Christmas\" in their title tend to be released in the USA."
   ]
  },
  {
   "cell_type": "code",
   "execution_count": null,
   "metadata": {
    "collapsed": true
   },
   "outputs": [],
   "source": [
    "#Date time operations\n",
    "r = release dates"
   ]
  },
  {
   "cell_type": "code",
   "execution_count": null,
   "metadata": {
    "collapsed": true
   },
   "outputs": [],
   "source": []
  },
  {
   "cell_type": "markdown",
   "metadata": {
    "collapsed": true
   },
   "source": [
    "### Make a bar plot of the months in which movies whose titles start with \"The Hobbit\" are released in the USA."
   ]
  },
  {
   "cell_type": "code",
   "execution_count": null,
   "metadata": {
    "collapsed": true
   },
   "outputs": [],
   "source": []
  },
  {
   "cell_type": "code",
   "execution_count": null,
   "metadata": {
    "collapsed": true
   },
   "outputs": [],
   "source": []
  },
  {
   "cell_type": "markdown",
   "metadata": {
    "collapsed": true
   },
   "source": [
    "### Make a bar plot of the day of the week on which movies with \"Romance\" in their title tend to be released in the USA."
   ]
  },
  {
   "cell_type": "code",
   "execution_count": null,
   "metadata": {
    "collapsed": true
   },
   "outputs": [],
   "source": []
  },
  {
   "cell_type": "code",
   "execution_count": null,
   "metadata": {
    "collapsed": true
   },
   "outputs": [],
   "source": []
  },
  {
   "cell_type": "markdown",
   "metadata": {
    "collapsed": true
   },
   "source": [
    "### Make a bar plot of the day of the week on which movies with \"Action\" in their title tend to be released in the USA."
   ]
  },
  {
   "cell_type": "code",
   "execution_count": null,
   "metadata": {
    "collapsed": true
   },
   "outputs": [],
   "source": []
  },
  {
   "cell_type": "code",
   "execution_count": null,
   "metadata": {
    "collapsed": true
   },
   "outputs": [],
   "source": []
  },
  {
   "cell_type": "markdown",
   "metadata": {
    "collapsed": true
   },
   "source": [
    "### On which date was each Judi Dench movie from the 1990s released in the USA?"
   ]
  },
  {
   "cell_type": "code",
   "execution_count": null,
   "metadata": {
    "collapsed": true
   },
   "outputs": [],
   "source": []
  },
  {
   "cell_type": "code",
   "execution_count": null,
   "metadata": {
    "collapsed": true
   },
   "outputs": [],
   "source": []
  },
  {
   "cell_type": "markdown",
   "metadata": {
    "collapsed": true
   },
   "source": [
    "### In which months do films with Judi Dench tend to be released in the USA?"
   ]
  },
  {
   "cell_type": "code",
   "execution_count": null,
   "metadata": {
    "collapsed": true
   },
   "outputs": [],
   "source": []
  },
  {
   "cell_type": "code",
   "execution_count": null,
   "metadata": {
    "collapsed": true
   },
   "outputs": [],
   "source": []
  },
  {
   "cell_type": "markdown",
   "metadata": {
    "collapsed": true
   },
   "source": [
    "### In which months do films with Tom Cruise tend to be released in the USA?"
   ]
  },
  {
   "cell_type": "code",
   "execution_count": null,
   "metadata": {
    "collapsed": true
   },
   "outputs": [],
   "source": []
  },
  {
   "cell_type": "code",
   "execution_count": null,
   "metadata": {
    "collapsed": true
   },
   "outputs": [],
   "source": []
  },
  {
   "cell_type": "code",
   "execution_count": null,
   "metadata": {},
   "outputs": [],
   "source": []
  },
  {
   "cell_type": "code",
   "execution_count": null,
   "metadata": {},
   "outputs": [],
   "source": []
  },
  {
   "cell_type": "code",
   "execution_count": null,
   "metadata": {},
   "outputs": [],
   "source": [
    "#Merge\n",
    "#2 tables with selection of rows that help you get to a new table\n"
   ]
  },
  {
   "cell_type": "code",
   "execution_count": 30,
   "metadata": {
    "scrolled": true
   },
   "outputs": [
    {
     "data": {
      "text/html": [
       "<div>\n",
       "<style scoped>\n",
       "    .dataframe tbody tr th:only-of-type {\n",
       "        vertical-align: middle;\n",
       "    }\n",
       "\n",
       "    .dataframe tbody tr th {\n",
       "        vertical-align: top;\n",
       "    }\n",
       "\n",
       "    .dataframe thead th {\n",
       "        text-align: right;\n",
       "    }\n",
       "</style>\n",
       "<table border=\"1\" class=\"dataframe\">\n",
       "  <thead>\n",
       "    <tr style=\"text-align: right;\">\n",
       "      <th></th>\n",
       "      <th>title</th>\n",
       "      <th>year</th>\n",
       "      <th>name</th>\n",
       "      <th>type</th>\n",
       "      <th>character</th>\n",
       "      <th>n</th>\n",
       "      <th>country</th>\n",
       "      <th>date</th>\n",
       "    </tr>\n",
       "  </thead>\n",
       "  <tbody>\n",
       "    <tr>\n",
       "      <th>0</th>\n",
       "      <td>Closet Monster</td>\n",
       "      <td>2015</td>\n",
       "      <td>Buffy #1</td>\n",
       "      <td>actor</td>\n",
       "      <td>Buffy 4</td>\n",
       "      <td>31.0</td>\n",
       "      <td>Taiwan</td>\n",
       "      <td>2016-05-27</td>\n",
       "    </tr>\n",
       "    <tr>\n",
       "      <th>1</th>\n",
       "      <td>Closet Monster</td>\n",
       "      <td>2015</td>\n",
       "      <td>Buffy #1</td>\n",
       "      <td>actor</td>\n",
       "      <td>Buffy 4</td>\n",
       "      <td>31.0</td>\n",
       "      <td>Germany</td>\n",
       "      <td>2016-10-06</td>\n",
       "    </tr>\n",
       "    <tr>\n",
       "      <th>2</th>\n",
       "      <td>Closet Monster</td>\n",
       "      <td>2015</td>\n",
       "      <td>Buffy #1</td>\n",
       "      <td>actor</td>\n",
       "      <td>Buffy 4</td>\n",
       "      <td>31.0</td>\n",
       "      <td>France</td>\n",
       "      <td>2017-12-13</td>\n",
       "    </tr>\n",
       "    <tr>\n",
       "      <th>3</th>\n",
       "      <td>Closet Monster</td>\n",
       "      <td>2015</td>\n",
       "      <td>Aaron Abrams</td>\n",
       "      <td>actor</td>\n",
       "      <td>Peter Madly</td>\n",
       "      <td>1.0</td>\n",
       "      <td>Taiwan</td>\n",
       "      <td>2016-05-27</td>\n",
       "    </tr>\n",
       "    <tr>\n",
       "      <th>4</th>\n",
       "      <td>Closet Monster</td>\n",
       "      <td>2015</td>\n",
       "      <td>Aaron Abrams</td>\n",
       "      <td>actor</td>\n",
       "      <td>Peter Madly</td>\n",
       "      <td>1.0</td>\n",
       "      <td>Germany</td>\n",
       "      <td>2016-10-06</td>\n",
       "    </tr>\n",
       "    <tr>\n",
       "      <th>...</th>\n",
       "      <td>...</td>\n",
       "      <td>...</td>\n",
       "      <td>...</td>\n",
       "      <td>...</td>\n",
       "      <td>...</td>\n",
       "      <td>...</td>\n",
       "      <td>...</td>\n",
       "      <td>...</td>\n",
       "    </tr>\n",
       "    <tr>\n",
       "      <th>18394923</th>\n",
       "      <td>Siyah/Beyaz</td>\n",
       "      <td>2013</td>\n",
       "      <td>Zeynep Çaliskan</td>\n",
       "      <td>actress</td>\n",
       "      <td>Zehra</td>\n",
       "      <td>NaN</td>\n",
       "      <td>Turkey</td>\n",
       "      <td>2013-07-15</td>\n",
       "    </tr>\n",
       "    <tr>\n",
       "      <th>18394924</th>\n",
       "      <td>Familia tortuga</td>\n",
       "      <td>2006</td>\n",
       "      <td>Manuela Ímaz</td>\n",
       "      <td>actress</td>\n",
       "      <td>Aunt</td>\n",
       "      <td>NaN</td>\n",
       "      <td>Mexico</td>\n",
       "      <td>2008-10-31</td>\n",
       "    </tr>\n",
       "    <tr>\n",
       "      <th>18394925</th>\n",
       "      <td>Martilarin Efendisi</td>\n",
       "      <td>2017</td>\n",
       "      <td>Bige Önal</td>\n",
       "      <td>actress</td>\n",
       "      <td>Ruya</td>\n",
       "      <td>2.0</td>\n",
       "      <td>Turkey</td>\n",
       "      <td>2017-12-22</td>\n",
       "    </tr>\n",
       "    <tr>\n",
       "      <th>18394926</th>\n",
       "      <td>Martilarin Efendisi</td>\n",
       "      <td>2017</td>\n",
       "      <td>Bige Önal</td>\n",
       "      <td>actress</td>\n",
       "      <td>Birgul</td>\n",
       "      <td>2.0</td>\n",
       "      <td>Turkey</td>\n",
       "      <td>2017-12-22</td>\n",
       "    </tr>\n",
       "    <tr>\n",
       "      <th>18394927</th>\n",
       "      <td>Arif v 216</td>\n",
       "      <td>2018</td>\n",
       "      <td>Özge Özberk</td>\n",
       "      <td>actress</td>\n",
       "      <td>Ceku</td>\n",
       "      <td>4.0</td>\n",
       "      <td>Turkey</td>\n",
       "      <td>2018-01-05</td>\n",
       "    </tr>\n",
       "  </tbody>\n",
       "</table>\n",
       "<p>18394928 rows × 8 columns</p>\n",
       "</div>"
      ],
      "text/plain": [
       "                        title  year             name     type    character  \\\n",
       "0              Closet Monster  2015         Buffy #1    actor      Buffy 4   \n",
       "1              Closet Monster  2015         Buffy #1    actor      Buffy 4   \n",
       "2              Closet Monster  2015         Buffy #1    actor      Buffy 4   \n",
       "3              Closet Monster  2015     Aaron Abrams    actor  Peter Madly   \n",
       "4              Closet Monster  2015     Aaron Abrams    actor  Peter Madly   \n",
       "...                       ...   ...              ...      ...          ...   \n",
       "18394923          Siyah/Beyaz  2013  Zeynep Çaliskan  actress        Zehra   \n",
       "18394924      Familia tortuga  2006     Manuela Ímaz  actress         Aunt   \n",
       "18394925  Martilarin Efendisi  2017        Bige Önal  actress         Ruya   \n",
       "18394926  Martilarin Efendisi  2017        Bige Önal  actress       Birgul   \n",
       "18394927           Arif v 216  2018      Özge Özberk  actress         Ceku   \n",
       "\n",
       "             n  country       date  \n",
       "0         31.0   Taiwan 2016-05-27  \n",
       "1         31.0  Germany 2016-10-06  \n",
       "2         31.0   France 2017-12-13  \n",
       "3          1.0   Taiwan 2016-05-27  \n",
       "4          1.0  Germany 2016-10-06  \n",
       "...        ...      ...        ...  \n",
       "18394923   NaN   Turkey 2013-07-15  \n",
       "18394924   NaN   Mexico 2008-10-31  \n",
       "18394925   2.0   Turkey 2017-12-22  \n",
       "18394926   2.0   Turkey 2017-12-22  \n",
       "18394927   4.0   Turkey 2018-01-05  \n",
       "\n",
       "[18394928 rows x 8 columns]"
      ]
     },
     "execution_count": 30,
     "metadata": {},
     "output_type": "execute_result"
    }
   ],
   "source": [
    "\n",
    "c = cast\n",
    "c[c.name == 'Ellen Page']\n",
    "#How can we get the release dates for each movie?\n",
    "#Need to merge with the release dates data fram\n",
    "c.merge(release_dates)\n",
    "#Automatically matches on columns with same names. Doesn't work so can specificy column\n",
    "#Use merge rather than join because it's easier\n",
    "\n",
    "#Pivot\n"
   ]
  },
  {
   "cell_type": "code",
   "execution_count": 31,
   "metadata": {},
   "outputs": [
    {
     "data": {
      "text/html": [
       "<div>\n",
       "<style scoped>\n",
       "    .dataframe tbody tr th:only-of-type {\n",
       "        vertical-align: middle;\n",
       "    }\n",
       "\n",
       "    .dataframe tbody tr th {\n",
       "        vertical-align: top;\n",
       "    }\n",
       "\n",
       "    .dataframe thead th {\n",
       "        text-align: right;\n",
       "    }\n",
       "</style>\n",
       "<table border=\"1\" class=\"dataframe\">\n",
       "  <thead>\n",
       "    <tr style=\"text-align: right;\">\n",
       "      <th>country</th>\n",
       "      <th>UK</th>\n",
       "      <th>USA</th>\n",
       "      <th>Ukraine</th>\n",
       "      <th>United Arab Emirates</th>\n",
       "      <th>Uruguay</th>\n",
       "    </tr>\n",
       "    <tr>\n",
       "      <th>title</th>\n",
       "      <th></th>\n",
       "      <th></th>\n",
       "      <th></th>\n",
       "      <th></th>\n",
       "      <th></th>\n",
       "    </tr>\n",
       "  </thead>\n",
       "  <tbody>\n",
       "    <tr>\n",
       "      <th>Star Wars: Episode I - The Phantom Menace</th>\n",
       "      <td>1999-07-15</td>\n",
       "      <td>1999-05-19</td>\n",
       "      <td>NaT</td>\n",
       "      <td>1999-08-25</td>\n",
       "      <td>1999-07-02</td>\n",
       "    </tr>\n",
       "    <tr>\n",
       "      <th>Star Wars: Episode II - Attack of the Clones</th>\n",
       "      <td>2002-05-16</td>\n",
       "      <td>2002-05-16</td>\n",
       "      <td>2002-06-08</td>\n",
       "      <td>2002-05-16</td>\n",
       "      <td>2002-07-05</td>\n",
       "    </tr>\n",
       "    <tr>\n",
       "      <th>Star Wars: Episode III - Revenge of the Sith</th>\n",
       "      <td>2005-05-19</td>\n",
       "      <td>2005-05-19</td>\n",
       "      <td>NaT</td>\n",
       "      <td>2005-05-19</td>\n",
       "      <td>2005-05-18</td>\n",
       "    </tr>\n",
       "    <tr>\n",
       "      <th>Star Wars: Episode IX</th>\n",
       "      <td>NaT</td>\n",
       "      <td>2019-12-20</td>\n",
       "      <td>NaT</td>\n",
       "      <td>NaT</td>\n",
       "      <td>NaT</td>\n",
       "    </tr>\n",
       "    <tr>\n",
       "      <th>Star Wars: Episode V - The Empire Strikes Back</th>\n",
       "      <td>1980-05-21</td>\n",
       "      <td>1980-06-20</td>\n",
       "      <td>NaT</td>\n",
       "      <td>NaT</td>\n",
       "      <td>1981-01-15</td>\n",
       "    </tr>\n",
       "    <tr>\n",
       "      <th>Star Wars: Episode VI - Return of the Jedi</th>\n",
       "      <td>1983-06-02</td>\n",
       "      <td>1983-05-25</td>\n",
       "      <td>NaT</td>\n",
       "      <td>NaT</td>\n",
       "      <td>1984-01-01</td>\n",
       "    </tr>\n",
       "    <tr>\n",
       "      <th>Star Wars: Episode VII - The Force Awakens</th>\n",
       "      <td>2015-12-17</td>\n",
       "      <td>2015-12-18</td>\n",
       "      <td>2015-12-17</td>\n",
       "      <td>2015-12-17</td>\n",
       "      <td>2015-12-17</td>\n",
       "    </tr>\n",
       "    <tr>\n",
       "      <th>Star Wars: Episode VIII - The Last Jedi</th>\n",
       "      <td>2017-12-14</td>\n",
       "      <td>2017-12-15</td>\n",
       "      <td>2017-12-14</td>\n",
       "      <td>NaT</td>\n",
       "      <td>2017-12-14</td>\n",
       "    </tr>\n",
       "  </tbody>\n",
       "</table>\n",
       "</div>"
      ],
      "text/plain": [
       "country                                                UK        USA  \\\n",
       "title                                                                  \n",
       "Star Wars: Episode I - The Phantom Menace      1999-07-15 1999-05-19   \n",
       "Star Wars: Episode II - Attack of the Clones   2002-05-16 2002-05-16   \n",
       "Star Wars: Episode III - Revenge of the Sith   2005-05-19 2005-05-19   \n",
       "Star Wars: Episode IX                                 NaT 2019-12-20   \n",
       "Star Wars: Episode V - The Empire Strikes Back 1980-05-21 1980-06-20   \n",
       "Star Wars: Episode VI - Return of the Jedi     1983-06-02 1983-05-25   \n",
       "Star Wars: Episode VII - The Force Awakens     2015-12-17 2015-12-18   \n",
       "Star Wars: Episode VIII - The Last Jedi        2017-12-14 2017-12-15   \n",
       "\n",
       "country                                           Ukraine  \\\n",
       "title                                                       \n",
       "Star Wars: Episode I - The Phantom Menace             NaT   \n",
       "Star Wars: Episode II - Attack of the Clones   2002-06-08   \n",
       "Star Wars: Episode III - Revenge of the Sith          NaT   \n",
       "Star Wars: Episode IX                                 NaT   \n",
       "Star Wars: Episode V - The Empire Strikes Back        NaT   \n",
       "Star Wars: Episode VI - Return of the Jedi            NaT   \n",
       "Star Wars: Episode VII - The Force Awakens     2015-12-17   \n",
       "Star Wars: Episode VIII - The Last Jedi        2017-12-14   \n",
       "\n",
       "country                                        United Arab Emirates    Uruguay  \n",
       "title                                                                           \n",
       "Star Wars: Episode I - The Phantom Menace                1999-08-25 1999-07-02  \n",
       "Star Wars: Episode II - Attack of the Clones             2002-05-16 2002-07-05  \n",
       "Star Wars: Episode III - Revenge of the Sith             2005-05-19 2005-05-18  \n",
       "Star Wars: Episode IX                                           NaT        NaT  \n",
       "Star Wars: Episode V - The Empire Strikes Back                  NaT 1981-01-15  \n",
       "Star Wars: Episode VI - Return of the Jedi                      NaT 1984-01-01  \n",
       "Star Wars: Episode VII - The Force Awakens               2015-12-17 2015-12-17  \n",
       "Star Wars: Episode VIII - The Last Jedi                         NaT 2017-12-14  "
      ]
     },
     "execution_count": 31,
     "metadata": {},
     "output_type": "execute_result"
    }
   ],
   "source": [
    "r = release_dates\n",
    "r = r[r.title.str.startswith('Star Wars: Episode')]\n",
    "r = r[r['country'].str.startswith('U')]\n",
    "r.head()\n",
    "r.pivot('title', 'country', 'date')\n",
    "\n",
    "#Pivot is the equivalent of set_index, sort_index, and unstack (in that order) to compare/plot\n",
    "#Better to just use those commands instead"
   ]
  },
  {
   "cell_type": "code",
   "execution_count": 24,
   "metadata": {},
   "outputs": [
    {
     "data": {
      "text/html": [
       "<div>\n",
       "<style scoped>\n",
       "    .dataframe tbody tr th:only-of-type {\n",
       "        vertical-align: middle;\n",
       "    }\n",
       "\n",
       "    .dataframe tbody tr th {\n",
       "        vertical-align: top;\n",
       "    }\n",
       "\n",
       "    .dataframe thead th {\n",
       "        text-align: right;\n",
       "    }\n",
       "</style>\n",
       "<table border=\"1\" class=\"dataframe\">\n",
       "  <thead>\n",
       "    <tr style=\"text-align: right;\">\n",
       "      <th>country</th>\n",
       "      <th>UK</th>\n",
       "      <th>USA</th>\n",
       "      <th>Ukraine</th>\n",
       "      <th>United Arab Emirates</th>\n",
       "      <th>Uruguay</th>\n",
       "    </tr>\n",
       "    <tr>\n",
       "      <th>title</th>\n",
       "      <th></th>\n",
       "      <th></th>\n",
       "      <th></th>\n",
       "      <th></th>\n",
       "      <th></th>\n",
       "    </tr>\n",
       "  </thead>\n",
       "  <tbody>\n",
       "    <tr>\n",
       "      <th>Star Wars: Episode I - The Phantom Menace</th>\n",
       "      <td>1999-07-15</td>\n",
       "      <td>1999-05-19</td>\n",
       "      <td>NaT</td>\n",
       "      <td>1999-08-25</td>\n",
       "      <td>1999-07-02</td>\n",
       "    </tr>\n",
       "    <tr>\n",
       "      <th>Star Wars: Episode II - Attack of the Clones</th>\n",
       "      <td>2002-05-16</td>\n",
       "      <td>2002-05-16</td>\n",
       "      <td>2002-06-08</td>\n",
       "      <td>2002-05-16</td>\n",
       "      <td>2002-07-05</td>\n",
       "    </tr>\n",
       "    <tr>\n",
       "      <th>Star Wars: Episode III - Revenge of the Sith</th>\n",
       "      <td>2005-05-19</td>\n",
       "      <td>2005-05-19</td>\n",
       "      <td>NaT</td>\n",
       "      <td>2005-05-19</td>\n",
       "      <td>2005-05-18</td>\n",
       "    </tr>\n",
       "    <tr>\n",
       "      <th>Star Wars: Episode IX</th>\n",
       "      <td>NaT</td>\n",
       "      <td>2019-12-20</td>\n",
       "      <td>NaT</td>\n",
       "      <td>NaT</td>\n",
       "      <td>NaT</td>\n",
       "    </tr>\n",
       "    <tr>\n",
       "      <th>Star Wars: Episode V - The Empire Strikes Back</th>\n",
       "      <td>1980-05-21</td>\n",
       "      <td>1980-06-20</td>\n",
       "      <td>NaT</td>\n",
       "      <td>NaT</td>\n",
       "      <td>1981-01-15</td>\n",
       "    </tr>\n",
       "    <tr>\n",
       "      <th>Star Wars: Episode VI - Return of the Jedi</th>\n",
       "      <td>1983-06-02</td>\n",
       "      <td>1983-05-25</td>\n",
       "      <td>NaT</td>\n",
       "      <td>NaT</td>\n",
       "      <td>1984-01-01</td>\n",
       "    </tr>\n",
       "    <tr>\n",
       "      <th>Star Wars: Episode VII - The Force Awakens</th>\n",
       "      <td>2015-12-17</td>\n",
       "      <td>2015-12-18</td>\n",
       "      <td>2015-12-17</td>\n",
       "      <td>2015-12-17</td>\n",
       "      <td>2015-12-17</td>\n",
       "    </tr>\n",
       "    <tr>\n",
       "      <th>Star Wars: Episode VIII - The Last Jedi</th>\n",
       "      <td>2017-12-14</td>\n",
       "      <td>2017-12-15</td>\n",
       "      <td>2017-12-14</td>\n",
       "      <td>NaT</td>\n",
       "      <td>2017-12-14</td>\n",
       "    </tr>\n",
       "  </tbody>\n",
       "</table>\n",
       "</div>"
      ],
      "text/plain": [
       "country                                                UK        USA  \\\n",
       "title                                                                  \n",
       "Star Wars: Episode I - The Phantom Menace      1999-07-15 1999-05-19   \n",
       "Star Wars: Episode II - Attack of the Clones   2002-05-16 2002-05-16   \n",
       "Star Wars: Episode III - Revenge of the Sith   2005-05-19 2005-05-19   \n",
       "Star Wars: Episode IX                                 NaT 2019-12-20   \n",
       "Star Wars: Episode V - The Empire Strikes Back 1980-05-21 1980-06-20   \n",
       "Star Wars: Episode VI - Return of the Jedi     1983-06-02 1983-05-25   \n",
       "Star Wars: Episode VII - The Force Awakens     2015-12-17 2015-12-18   \n",
       "Star Wars: Episode VIII - The Last Jedi        2017-12-14 2017-12-15   \n",
       "\n",
       "country                                           Ukraine  \\\n",
       "title                                                       \n",
       "Star Wars: Episode I - The Phantom Menace             NaT   \n",
       "Star Wars: Episode II - Attack of the Clones   2002-06-08   \n",
       "Star Wars: Episode III - Revenge of the Sith          NaT   \n",
       "Star Wars: Episode IX                                 NaT   \n",
       "Star Wars: Episode V - The Empire Strikes Back        NaT   \n",
       "Star Wars: Episode VI - Return of the Jedi            NaT   \n",
       "Star Wars: Episode VII - The Force Awakens     2015-12-17   \n",
       "Star Wars: Episode VIII - The Last Jedi        2017-12-14   \n",
       "\n",
       "country                                        United Arab Emirates    Uruguay  \n",
       "title                                                                           \n",
       "Star Wars: Episode I - The Phantom Menace                1999-08-25 1999-07-02  \n",
       "Star Wars: Episode II - Attack of the Clones             2002-05-16 2002-07-05  \n",
       "Star Wars: Episode III - Revenge of the Sith             2005-05-19 2005-05-18  \n",
       "Star Wars: Episode IX                                           NaT        NaT  \n",
       "Star Wars: Episode V - The Empire Strikes Back                  NaT 1981-01-15  \n",
       "Star Wars: Episode VI - Return of the Jedi                      NaT 1984-01-01  \n",
       "Star Wars: Episode VII - The Force Awakens               2015-12-17 2015-12-17  \n",
       "Star Wars: Episode VIII - The Last Jedi                         NaT 2017-12-14  "
      ]
     },
     "execution_count": 24,
     "metadata": {},
     "output_type": "execute_result"
    }
   ],
   "source": [
    "r.pivot('title', 'country', 'date') \n",
    "df.pivot('rowheader', 'columnheader', 'data in the middle')\n",
    "#pivot changes the table so that: title = row header, country is column header, 'date' is info in the center\\\n",
    "#d"
   ]
  },
  {
   "cell_type": "code",
   "execution_count": 12,
   "metadata": {},
   "outputs": [
    {
     "data": {
      "text/html": [
       "<div>\n",
       "<style scoped>\n",
       "    .dataframe tbody tr th:only-of-type {\n",
       "        vertical-align: middle;\n",
       "    }\n",
       "\n",
       "    .dataframe tbody tr th {\n",
       "        vertical-align: top;\n",
       "    }\n",
       "\n",
       "    .dataframe thead th {\n",
       "        text-align: right;\n",
       "    }\n",
       "</style>\n",
       "<table border=\"1\" class=\"dataframe\">\n",
       "  <thead>\n",
       "    <tr style=\"text-align: right;\">\n",
       "      <th></th>\n",
       "      <th>title</th>\n",
       "      <th>year</th>\n",
       "      <th>name_x</th>\n",
       "      <th>type_x</th>\n",
       "      <th>character_x</th>\n",
       "      <th>n_x</th>\n",
       "      <th>name_y</th>\n",
       "      <th>type_y</th>\n",
       "      <th>character_y</th>\n",
       "      <th>n_y</th>\n",
       "    </tr>\n",
       "  </thead>\n",
       "  <tbody>\n",
       "    <tr>\n",
       "      <th>0</th>\n",
       "      <td>An Affair to Remember</td>\n",
       "      <td>1957</td>\n",
       "      <td>Cary Grant</td>\n",
       "      <td>actor</td>\n",
       "      <td>Nickie Ferrante</td>\n",
       "      <td>1.0</td>\n",
       "      <td>Richard (V) Allen</td>\n",
       "      <td>actor</td>\n",
       "      <td>Orphan</td>\n",
       "      <td>NaN</td>\n",
       "    </tr>\n",
       "    <tr>\n",
       "      <th>1</th>\n",
       "      <td>An Affair to Remember</td>\n",
       "      <td>1957</td>\n",
       "      <td>Cary Grant</td>\n",
       "      <td>actor</td>\n",
       "      <td>Nickie Ferrante</td>\n",
       "      <td>1.0</td>\n",
       "      <td>Al Bain</td>\n",
       "      <td>actor</td>\n",
       "      <td>Undetermined Secondary Role</td>\n",
       "      <td>NaN</td>\n",
       "    </tr>\n",
       "    <tr>\n",
       "      <th>2</th>\n",
       "      <td>An Affair to Remember</td>\n",
       "      <td>1957</td>\n",
       "      <td>Cary Grant</td>\n",
       "      <td>actor</td>\n",
       "      <td>Nickie Ferrante</td>\n",
       "      <td>1.0</td>\n",
       "      <td>Alex Ball</td>\n",
       "      <td>actor</td>\n",
       "      <td>Audience Member</td>\n",
       "      <td>NaN</td>\n",
       "    </tr>\n",
       "    <tr>\n",
       "      <th>3</th>\n",
       "      <td>An Affair to Remember</td>\n",
       "      <td>1957</td>\n",
       "      <td>Cary Grant</td>\n",
       "      <td>actor</td>\n",
       "      <td>Nickie Ferrante</td>\n",
       "      <td>1.0</td>\n",
       "      <td>Dino Bolognese</td>\n",
       "      <td>actor</td>\n",
       "      <td>Italian TV Commentator</td>\n",
       "      <td>NaN</td>\n",
       "    </tr>\n",
       "    <tr>\n",
       "      <th>4</th>\n",
       "      <td>An Affair to Remember</td>\n",
       "      <td>1957</td>\n",
       "      <td>Cary Grant</td>\n",
       "      <td>actor</td>\n",
       "      <td>Nickie Ferrante</td>\n",
       "      <td>1.0</td>\n",
       "      <td>Fortunio Bonanova</td>\n",
       "      <td>actor</td>\n",
       "      <td>Courbet</td>\n",
       "      <td>8.0</td>\n",
       "    </tr>\n",
       "    <tr>\n",
       "      <th>...</th>\n",
       "      <td>...</td>\n",
       "      <td>...</td>\n",
       "      <td>...</td>\n",
       "      <td>...</td>\n",
       "      <td>...</td>\n",
       "      <td>...</td>\n",
       "      <td>...</td>\n",
       "      <td>...</td>\n",
       "      <td>...</td>\n",
       "      <td>...</td>\n",
       "    </tr>\n",
       "    <tr>\n",
       "      <th>3345</th>\n",
       "      <td>Wings in the Dark</td>\n",
       "      <td>1935</td>\n",
       "      <td>Cary Grant</td>\n",
       "      <td>actor</td>\n",
       "      <td>Ken Gordon</td>\n",
       "      <td>2.0</td>\n",
       "      <td>Myrna Loy</td>\n",
       "      <td>actress</td>\n",
       "      <td>Sheila Mason</td>\n",
       "      <td>1.0</td>\n",
       "    </tr>\n",
       "    <tr>\n",
       "      <th>3346</th>\n",
       "      <td>Wings in the Dark</td>\n",
       "      <td>1935</td>\n",
       "      <td>Cary Grant</td>\n",
       "      <td>actor</td>\n",
       "      <td>Ken Gordon</td>\n",
       "      <td>2.0</td>\n",
       "      <td>Esther Michelson</td>\n",
       "      <td>actress</td>\n",
       "      <td>Boy's Mother at Coney Island</td>\n",
       "      <td>NaN</td>\n",
       "    </tr>\n",
       "    <tr>\n",
       "      <th>3347</th>\n",
       "      <td>Wings in the Dark</td>\n",
       "      <td>1935</td>\n",
       "      <td>Cary Grant</td>\n",
       "      <td>actor</td>\n",
       "      <td>Ken Gordon</td>\n",
       "      <td>2.0</td>\n",
       "      <td>Ottola Nesmith</td>\n",
       "      <td>actress</td>\n",
       "      <td>Housekeeper</td>\n",
       "      <td>NaN</td>\n",
       "    </tr>\n",
       "    <tr>\n",
       "      <th>3348</th>\n",
       "      <td>Wings in the Dark</td>\n",
       "      <td>1935</td>\n",
       "      <td>Cary Grant</td>\n",
       "      <td>actor</td>\n",
       "      <td>Ken Gordon</td>\n",
       "      <td>2.0</td>\n",
       "      <td>Rita Owin</td>\n",
       "      <td>actress</td>\n",
       "      <td>Nurse</td>\n",
       "      <td>NaN</td>\n",
       "    </tr>\n",
       "    <tr>\n",
       "      <th>3349</th>\n",
       "      <td>Wings in the Dark</td>\n",
       "      <td>1935</td>\n",
       "      <td>Cary Grant</td>\n",
       "      <td>actor</td>\n",
       "      <td>Ken Gordon</td>\n",
       "      <td>2.0</td>\n",
       "      <td>Rosemary Theby</td>\n",
       "      <td>actress</td>\n",
       "      <td>Rockwell's Secretary</td>\n",
       "      <td>NaN</td>\n",
       "    </tr>\n",
       "  </tbody>\n",
       "</table>\n",
       "<p>3285 rows × 10 columns</p>\n",
       "</div>"
      ],
      "text/plain": [
       "                      title  year      name_x type_x      character_x  n_x  \\\n",
       "0     An Affair to Remember  1957  Cary Grant  actor  Nickie Ferrante  1.0   \n",
       "1     An Affair to Remember  1957  Cary Grant  actor  Nickie Ferrante  1.0   \n",
       "2     An Affair to Remember  1957  Cary Grant  actor  Nickie Ferrante  1.0   \n",
       "3     An Affair to Remember  1957  Cary Grant  actor  Nickie Ferrante  1.0   \n",
       "4     An Affair to Remember  1957  Cary Grant  actor  Nickie Ferrante  1.0   \n",
       "...                     ...   ...         ...    ...              ...  ...   \n",
       "3345      Wings in the Dark  1935  Cary Grant  actor       Ken Gordon  2.0   \n",
       "3346      Wings in the Dark  1935  Cary Grant  actor       Ken Gordon  2.0   \n",
       "3347      Wings in the Dark  1935  Cary Grant  actor       Ken Gordon  2.0   \n",
       "3348      Wings in the Dark  1935  Cary Grant  actor       Ken Gordon  2.0   \n",
       "3349      Wings in the Dark  1935  Cary Grant  actor       Ken Gordon  2.0   \n",
       "\n",
       "                 name_y   type_y                   character_y  n_y  \n",
       "0     Richard (V) Allen    actor                        Orphan  NaN  \n",
       "1               Al Bain    actor   Undetermined Secondary Role  NaN  \n",
       "2             Alex Ball    actor               Audience Member  NaN  \n",
       "3        Dino Bolognese    actor        Italian TV Commentator  NaN  \n",
       "4     Fortunio Bonanova    actor                       Courbet  8.0  \n",
       "...                 ...      ...                           ...  ...  \n",
       "3345          Myrna Loy  actress                  Sheila Mason  1.0  \n",
       "3346   Esther Michelson  actress  Boy's Mother at Coney Island  NaN  \n",
       "3347     Ottola Nesmith  actress                   Housekeeper  NaN  \n",
       "3348          Rita Owin  actress                         Nurse  NaN  \n",
       "3349     Rosemary Theby  actress          Rockwell's Secretary  NaN  \n",
       "\n",
       "[3285 rows x 10 columns]"
      ]
     },
     "execution_count": 12,
     "metadata": {},
     "output_type": "execute_result"
    }
   ],
   "source": [
    "#Can merge a table with itself.\n",
    "#Example: Who is Cary grant's main costar (when he has a leading role).\n",
    "c = cast\n",
    "c = c[c.n <= 2]\n",
    "c = c[c.name == 'Cary Grant']\n",
    "\n",
    "# His costars are also in the same table, merge with cast table, which has his costars in other rows for the same title\n",
    "c = c.merge(cast, on=['title','year'])\n",
    "c\n",
    "#c = c[c.n_y <= 2]    #Filters in main costars i.e. n<=2 #When merging table with itself, puts _x at the end of one set of columns, _y at the other. Can specify different suffixes \n",
    "\n",
    "c[c['title'] == 'Houseboat']\n",
    "\n",
    "#We're trying to find who cary grant is costaring with. But Pandas is \n",
    "#merging cary grant entries with other cary grant entries. See row 780\n",
    "#So filter out costar = Cary Grant\n",
    "c = c[c['name_y'] != 'Cary Grant']\n",
    "c"
   ]
  },
  {
   "cell_type": "code",
   "execution_count": null,
   "metadata": {
    "scrolled": true
   },
   "outputs": [],
   "source": []
  },
  {
   "cell_type": "code",
   "execution_count": null,
   "metadata": {
    "scrolled": true
   },
   "outputs": [],
   "source": []
  },
  {
   "cell_type": "code",
   "execution_count": null,
   "metadata": {},
   "outputs": [],
   "source": []
  },
  {
   "cell_type": "code",
   "execution_count": null,
   "metadata": {},
   "outputs": [],
   "source": []
  },
  {
   "cell_type": "code",
   "execution_count": null,
   "metadata": {},
   "outputs": [],
   "source": []
  }
 ],
 "metadata": {
  "kernelspec": {
   "display_name": "Python 3 (ipykernel)",
   "language": "python",
   "name": "python3"
  },
  "language_info": {
   "codemirror_mode": {
    "name": "ipython",
    "version": 3
   },
   "file_extension": ".py",
   "mimetype": "text/x-python",
   "name": "python",
   "nbconvert_exporter": "python",
   "pygments_lexer": "ipython3",
   "version": "3.9.12"
  }
 },
 "nbformat": 4,
 "nbformat_minor": 1
}
